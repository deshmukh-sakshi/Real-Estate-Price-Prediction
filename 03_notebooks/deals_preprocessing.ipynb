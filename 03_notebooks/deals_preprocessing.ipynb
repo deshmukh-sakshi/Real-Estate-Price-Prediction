{
  "nbformat": 4,
  "nbformat_minor": 0,
  "metadata": {
    "colab": {
      "provenance": []
    },
    "kernelspec": {
      "name": "python3",
      "display_name": "Python 3"
    },
    "language_info": {
      "name": "python"
    }
  },
  "cells": [
    {
      "cell_type": "code",
      "execution_count": 10,
      "metadata": {
        "id": "4O2Cn_KE5jKK"
      },
      "outputs": [],
      "source": [
        "from pyspark.sql import SparkSession\n",
        "from pyspark.sql.functions import *\n",
        "import pandas as pd\n",
        "\n",
        "spark = SparkSession.builder.appName(\"Deals\").getOrCreate()\n",
        "spark.sparkContext.setLogLevel(\"WARN\")\n",
        "\n",
        "# Load the CSV file into a Spark DataFrame\n",
        "deals = spark.read.csv(\"/content/Deals.csv\", header=True, inferSchema=True)"
      ]
    },
    {
      "cell_type": "code",
      "source": [
        "# PANDAS\n",
        "# deals = deals.dropna(how='all')\n",
        "# deals.columns = deals.columns.str.lower().str.replace(' ', '_')\n",
        "\n",
        "# SPARK\n",
        "def basic_clean(df):\n",
        "    for col in df.columns:\n",
        "        df = df.withColumnRenamed(col, col.lower().replace(' ', '_'))\n",
        "    return df\n",
        "\n",
        "deals = basic_clean(deals)"
      ],
      "metadata": {
        "id": "64nxm-w0887X"
      },
      "execution_count": 12,
      "outputs": []
    },
    {
      "cell_type": "code",
      "source": [
        "# PANDAS\n",
        "# deals.loc[deals['loan_rate'] > 100, 'loan_rate'] = np.nan\n",
        "\n",
        "# SPARK\n",
        "def fix_loan_rate(df):\n",
        "    return df.withColumn(\n",
        "        'loan_rate',\n",
        "        when(col('loan_rate') > 100, None).otherwise(col('loan_rate'))\n",
        "    )\n",
        "\n",
        "deals = fix_loan_rate(deals)"
      ],
      "metadata": {
        "id": "cDMu8V8C9Gi6"
      },
      "execution_count": 13,
      "outputs": []
    },
    {
      "cell_type": "code",
      "source": [
        "# PANDAS\n",
        "# deals.dropna(subset=['customer_id', 'broker_id', 'property_id'], inplace=True)\n",
        "\n",
        "# SPARK\n",
        "def drop_missing_ids(df):\n",
        "    return df.dropna(subset=['customer_id', 'broker_id', 'property_id'])\n",
        "\n",
        "deals = drop_missing_ids(deals)"
      ],
      "metadata": {
        "id": "s9Xy4rTP9mN1"
      },
      "execution_count": 14,
      "outputs": []
    },
    {
      "cell_type": "code",
      "source": [
        "# PANDAS\n",
        "# deals.to_csv('clean_deals.csv', index=False)\n",
        "\n",
        "# SPARK\n",
        "def save_csv(df, path):\n",
        "    df.coalesce(1).write.mode(\"overwrite\").csv(path, header=True)\n",
        "\n",
        "save_csv(deals, 'clean_deals.csv')"
      ],
      "metadata": {
        "id": "3L3iM0rQ9pfw"
      },
      "execution_count": 15,
      "outputs": []
    },
    {
      "cell_type": "code",
      "source": [],
      "metadata": {
        "id": "Bw2P2bqr9xNW"
      },
      "execution_count": null,
      "outputs": []
    }
  ]
}